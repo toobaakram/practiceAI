{
 "cells": [
  {
   "cell_type": "markdown",
   "metadata": {},
   "source": [
    "<h3>Q no 1:  Write a python program to find number of occurrences of given number in a list with out using built-in methods</h3>\n",
    "<h4>**1 generate a list of some random num which is repeated again and again</h4>\n",
    "<h4>**2 take user input any number</h4>\n",
    "<h4>**3 find the number of occurrences of that num in your list</h4>\n",
    "<h4>**4 print some message to user with that result</h4>"
   ]
  },
  {
   "cell_type": "code",
   "execution_count": 46,
   "metadata": {},
   "outputs": [],
   "source": [
    "a=[1,2,2,3,1,4,5,2,3]\n"
   ]
  },
  {
   "cell_type": "code",
   "execution_count": 47,
   "metadata": {},
   "outputs": [
    {
     "name": "stdout",
     "output_type": "stream",
     "text": [
      " enter any number : 2\n"
     ]
    }
   ],
   "source": [
    "num = int(input(\" enter any number : \"))\n"
   ]
  },
  {
   "cell_type": "code",
   "execution_count": 48,
   "metadata": {},
   "outputs": [],
   "source": [
    "count = 0\n",
    "for x in a:\n",
    "    if num == x:\n",
    "        count+=1"
   ]
  },
  {
   "cell_type": "code",
   "execution_count": 49,
   "metadata": {},
   "outputs": [
    {
     "name": "stdout",
     "output_type": "stream",
     "text": [
      "number of occurrences  :     3\n"
     ]
    }
   ],
   "source": [
    "print(\"number of occurrences  :    \",count)"
   ]
  },
  {
   "cell_type": "markdown",
   "metadata": {},
   "source": [
    "<h3>Q no 2:   [\"www.zframez.com\", \"www.wikipedia.org\", \"www.asp.net\", \"www.abcd.in\"]\n",
    "<br/><br/><br/><br/><br/>\n",
    "Write a python program to print website suffixes (com , org , net ,in) from this list\n",
    "</h3>"
   ]
  },
  {
   "cell_type": "code",
   "execution_count": 50,
   "metadata": {},
   "outputs": [],
   "source": [
    "web=[\"www.zframez.com\", \"www.wikipedia.org\", \"www.asp.net\", \"www.abcd.in\"] "
   ]
  },
  {
   "cell_type": "code",
   "execution_count": 51,
   "metadata": {},
   "outputs": [
    {
     "name": "stdout",
     "output_type": "stream",
     "text": [
      "com\n",
      "org\n",
      "net\n",
      "in\n"
     ]
    }
   ],
   "source": [
    "for X in web:\n",
    "      print(X.split('.')[2])"
   ]
  },
  {
   "cell_type": "markdown",
   "metadata": {},
   "source": [
    "<h3> Q no 3 : Write a program which can compute the factorial of a given numbers.</h3>\n",
    "<br/>\n",
    "<br/>\n",
    "<h4>**1 first take user input any number</h4>\n",
    "<h4>**2 calculate factorial of that input and then print the result to user</h4>"
   ]
  },
  {
   "cell_type": "code",
   "execution_count": 52,
   "metadata": {},
   "outputs": [
    {
     "name": "stdout",
     "output_type": "stream",
     "text": [
      "Enter any number :   5\n"
     ]
    }
   ],
   "source": [
    "number = int(input(\"Enter any number :   \"))"
   ]
  },
  {
   "cell_type": "code",
   "execution_count": 53,
   "metadata": {},
   "outputs": [
    {
     "name": "stdout",
     "output_type": "stream",
     "text": [
      "factorial of  5 is 120\n"
     ]
    }
   ],
   "source": [
    "count = 1\n",
    "if number == 0 :\n",
    "    print(\"factorial of \",number,\"is 1\")\n",
    "elif number < 0:\n",
    "    print(\"sorry number is negative\")\n",
    "else:\n",
    "    for l in range(number):\n",
    "              count = count * (l+1)\n",
    "    print(\"factorial of \",number,\"is\" ,count)\n",
    "  "
   ]
  },
  {
   "cell_type": "markdown",
   "metadata": {},
   "source": [
    "<h3>Q 4 (a) :  If you could invite anyone, living or deceased, to dinner, who\n",
    "would you invite? Make a list that includes at least three people you’d like to\n",
    "invite to dinner. Then use your list to print a message to each person, inviting\n",
    "them to dinner.</h3>"
   ]
  },
  {
   "cell_type": "code",
   "execution_count": 54,
   "metadata": {},
   "outputs": [],
   "source": [
    "invitation_list=[\"Faheela\",\"Ujala\",\"Reeba\",\"Faiza\"]"
   ]
  },
  {
   "cell_type": "code",
   "execution_count": 55,
   "metadata": {},
   "outputs": [
    {
     "name": "stdout",
     "output_type": "stream",
     "text": [
      "Assalam-O-Alaikum \n",
      " Dear  Faheela I would like to invite you for dinner.\n",
      "Assalam-O-Alaikum \n",
      " Dear  Ujala I would like to invite you for dinner.\n",
      "Assalam-O-Alaikum \n",
      " Dear  Reeba I would like to invite you for dinner.\n",
      "Assalam-O-Alaikum \n",
      " Dear  Faiza I would like to invite you for dinner.\n"
     ]
    }
   ],
   "source": [
    "for l in invitation_list:\n",
    "    print(\"Assalam-O-Alaikum \\n Dear \",l,\"I would like to invite you for dinner.\")"
   ]
  },
  {
   "cell_type": "markdown",
   "metadata": {},
   "source": [
    "<h3>Q 4 (b) : You just heard that one of your guests can’t make the\n",
    "dinner, so you need to send out a new set of invitations. You’ll have to think of\n",
    "someone else to invite.<br/></br><br/>\n",
    "•\t Start with your program from Q 4 (a). Add a print statement at the\n",
    "end of your program stating the name of the guest who can’t make it.<br/></br><br/>\n",
    "•\t Modify your list, replacing the name of the guest who can’t make it with\n",
    "the name of the new person you are inviting.<br/></br><br/>\n",
    "•\t Print a second set of invitation messages, one for each person who is still\n",
    "in your list.<br/></br><br/></h3>"
   ]
  },
  {
   "cell_type": "code",
   "execution_count": 56,
   "metadata": {},
   "outputs": [
    {
     "name": "stdout",
     "output_type": "stream",
     "text": [
      "reeba  can’t make it \n"
     ]
    }
   ],
   "source": [
    "f = \"reeba\"\n",
    "\n",
    "print (f,\" can’t make it \")"
   ]
  },
  {
   "cell_type": "code",
   "execution_count": 57,
   "metadata": {},
   "outputs": [
    {
     "name": "stdout",
     "output_type": "stream",
     "text": [
      " New Guest :  Robeena\n"
     ]
    }
   ],
   "source": [
    "if \"Reeba\" in invitation_list:\n",
    "    w= invitation_list.index('Reeba')    #index number of reeba\n",
    "    invitation_list.remove('Reeba')\n",
    "    l=str(input(\" New Guest :  \"))\n",
    "    invitation_list.insert(w,l)       "
   ]
  },
  {
   "cell_type": "code",
   "execution_count": 58,
   "metadata": {},
   "outputs": [
    {
     "name": "stdout",
     "output_type": "stream",
     "text": [
      "Assalam-O-Alaikum  Dear  Faheela I would like to invite you for dinner.\n",
      "Assalam-O-Alaikum  Dear  Ujala I would like to invite you for dinner.\n",
      "Assalam-O-Alaikum  Dear  Robeena I would like to invite you for dinner.\n",
      "Assalam-O-Alaikum  Dear  Faiza I would like to invite you for dinner.\n"
     ]
    }
   ],
   "source": [
    "for l in invitation_list:\n",
    "    print(\"Assalam-O-Alaikum  Dear \",l,\"I would like to invite you for dinner.\")"
   ]
  },
  {
   "cell_type": "markdown",
   "metadata": {},
   "source": [
    "<h3>Q 4 (c) : You just found a bigger dinner table, so now more space is\n",
    "available. Think of three more guests to invite to dinner.<br/></br><br/>\n",
    "•\t Start with your program from Q 4 (a) and (b) Add a print\n",
    "statement to the end of your program informing people that you found a\n",
    "bigger dinner table.<br/></br><br/>\n",
    "•\t Use insert() to add one new guest to the beginning of your list.<br/></br><br/>\n",
    "•\t Use insert() to add one new guest to the middle of your list.<br/></br><br/>\n",
    "•\t Use append() to add one new guest to the end of your list.<br/></br><br/>\n",
    "•\t Print a new set of invitation messages, one for each person in your list.<br/></br><br/></h3>"
   ]
  },
  {
   "cell_type": "code",
   "execution_count": 59,
   "metadata": {},
   "outputs": [
    {
     "name": "stdout",
     "output_type": "stream",
     "text": [
      "we have bigger dinner table now\n"
     ]
    }
   ],
   "source": [
    "print(\"we have bigger dinner table now\")"
   ]
  },
  {
   "cell_type": "code",
   "execution_count": 60,
   "metadata": {},
   "outputs": [],
   "source": [
    "    invitation_list.insert(0,\"Rameen\")\n",
    "    invitation_list.insert(3,\"Romana\")"
   ]
  },
  {
   "cell_type": "code",
   "execution_count": 61,
   "metadata": {},
   "outputs": [],
   "source": [
    "invitation_list.append(\"Rana\")"
   ]
  },
  {
   "cell_type": "code",
   "execution_count": 62,
   "metadata": {},
   "outputs": [
    {
     "name": "stdout",
     "output_type": "stream",
     "text": [
      " Dear  Rameen ! I would like to invite you for dinner.\n",
      " Dear  Faheela ! I would like to invite you for dinner.\n",
      " Dear  Ujala ! I would like to invite you for dinner.\n",
      " Dear  Romana ! I would like to invite you for dinner.\n",
      " Dear  Robeena ! I would like to invite you for dinner.\n",
      " Dear  Faiza ! I would like to invite you for dinner.\n",
      " Dear  Rana ! I would like to invite you for dinner.\n"
     ]
    }
   ],
   "source": [
    "for l in invitation_list:\n",
    "    print(\" Dear \",l,\"! I would like to invite you for dinner.\")"
   ]
  },
  {
   "cell_type": "markdown",
   "metadata": {},
   "source": [
    "<h5> Q 5 : Here you have some data in variable below, your task is to make a list of specific word Surah then print the list and length of list</h5>\n"
   ]
  },
  {
   "cell_type": "code",
   "execution_count": 63,
   "metadata": {},
   "outputs": [],
   "source": [
    "data = \"Sura I Who believe in the Unseen, Sura Are steadfast in prayer, And spend Sura out of what We Have provided for them;\"\n"
   ]
  },
  {
   "cell_type": "code",
   "execution_count": 64,
   "metadata": {},
   "outputs": [
    {
     "name": "stdout",
     "output_type": "stream",
     "text": [
      "['Sura', 'Sura', 'Sura']\n"
     ]
    }
   ],
   "source": [
    "k=data.split()\n",
    "Surah=[]\n",
    "for i in k:\n",
    "    if i == 'Sura':\n",
    "        Surah.append(i)\n",
    "print(Surah)\n",
    "        "
   ]
  },
  {
   "cell_type": "code",
   "execution_count": 65,
   "metadata": {},
   "outputs": [
    {
     "name": "stdout",
     "output_type": "stream",
     "text": [
      "length : 3\n"
     ]
    }
   ],
   "source": [
    "print(\"length :\",len(Surah))"
   ]
  }
 ],
 "metadata": {
  "kernelspec": {
   "display_name": "Python 3",
   "language": "python",
   "name": "python3"
  },
  "language_info": {
   "codemirror_mode": {
    "name": "ipython",
    "version": 3
   },
   "file_extension": ".py",
   "mimetype": "text/x-python",
   "name": "python",
   "nbconvert_exporter": "python",
   "pygments_lexer": "ipython3",
   "version": "3.6.5"
  }
 },
 "nbformat": 4,
 "nbformat_minor": 2
}
